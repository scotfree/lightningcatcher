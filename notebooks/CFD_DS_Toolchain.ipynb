{
 "cells": [
  {
   "cell_type": "markdown",
   "id": "13548d86",
   "metadata": {},
   "source": [
    "# Overview\n",
    "\n",
    "## Goal\n",
    "\n",
    "## Problem Space\n",
    "\n",
    "## Solution Space\n",
    "\n",
    "## Approach"
   ]
  },
  {
   "cell_type": "markdown",
   "id": "63858bcf",
   "metadata": {},
   "source": [
    "# Workbench\n",
    "\n",
    "## Dataframes and ML\n",
    "\n",
    "## Geometry and Model\n",
    "\n",
    "## Mesh\n",
    "\n",
    "## CFD\n",
    "\n",
    "## Analysis\n",
    "\n",
    "## Optimization"
   ]
  },
  {
   "cell_type": "markdown",
   "id": "4b78f850",
   "metadata": {},
   "source": [
    "# Problem Setup\n",
    "\n",
    "How do we set up our model and simulations, then measure things about the result?\n",
    "\n",
    "\n",
    "## parameterized paper airplane design\n",
    "\n",
    "###  gmsh - create parameterized plane design\n",
    "\n",
    "### gmsh - buidl mesh\n",
    "\n",
    "## 3D flow in air at low velocity\n",
    "\n",
    "### SU2 run simulation\n",
    "\n",
    "### Measure outcomes\n",
    "\n"
   ]
  },
  {
   "cell_type": "markdown",
   "id": "b7d234f2",
   "metadata": {},
   "source": [
    "# Solution Setup\n",
    "\n",
    "How do we explore the design space and optimize some dependent variable output?\n",
    "\n",
    "## simple uniform meshing\n",
    "\n",
    "## simple CFD run\n",
    "\n",
    "## metrics and efficacy\n",
    "\n",
    "## optimization"
   ]
  },
  {
   "cell_type": "markdown",
   "id": "2596fd15",
   "metadata": {},
   "source": [
    "# Implementation\n",
    "\n",
    "How do we explore this problem?\n",
    "\n",
    "## dataframes for CFD explorations and DoE\n",
    "\n",
    "## Problem specification \n",
    "What is an interesting AoA to optimize along?\n",
    "\n",
    "What are useful physical parameters?\n",
    "\n",
    "Do our result make physical sense?\n",
    "\n",
    "\n",
    "## optimization\n",
    "\n",
    "How should we define fitness?\n",
    "\n",
    "How should we optimize fitness with our single variable?"
   ]
  },
  {
   "cell_type": "markdown",
   "id": "f6f9cc8c",
   "metadata": {},
   "source": [
    "# Results\n",
    "\n",
    "## Do our CFD results seem reasonable?\n",
    "\n",
    "## Does our optimization seem reasonable?\n",
    "\n",
    "## How does clever optimization compare to a grid search?\n"
   ]
  },
  {
   "cell_type": "markdown",
   "id": "06e5122c",
   "metadata": {},
   "source": [
    "# Open Questions and Next Steps\n",
    "\n",
    "* Optimization tools (Dakota, matlab, etc)\n",
    "* CFD tooling\n",
    "  * cfd params\n",
    "  * mesh improvements\n",
    "  * other CFD platforms\n",
    "* problem refinement\n",
    "* more parameter dimensions\n",
    "* V & V"
   ]
  },
  {
   "cell_type": "code",
   "execution_count": null,
   "id": "b1c36623",
   "metadata": {},
   "outputs": [],
   "source": []
  }
 ],
 "metadata": {
  "kernelspec": {
   "display_name": "Python 3 (ipykernel)",
   "language": "python",
   "name": "python3"
  },
  "language_info": {
   "codemirror_mode": {
    "name": "ipython",
    "version": 3
   },
   "file_extension": ".py",
   "mimetype": "text/x-python",
   "name": "python",
   "nbconvert_exporter": "python",
   "pygments_lexer": "ipython3",
   "version": "3.8.9"
  }
 },
 "nbformat": 4,
 "nbformat_minor": 5
}
