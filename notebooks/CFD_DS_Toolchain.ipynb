{
 "cells": [
  {
   "cell_type": "markdown",
   "id": "13548d86",
   "metadata": {},
   "source": [
    "# Overview\n",
    "\n",
    "## Goal\n",
    "\n",
    "We will set up a workbench familiar to a Data Science person for working with large numbers of CFD datasets indexed by parameters. We will allow these parameters to control the shapes themselves, CFD algorithmic parameters, or hyperparameters for optimization and summary.\n",
    "\n",
    "## Problem Space\n",
    "\n",
    "This is intended for cases which may be naturally indexed by some reasonable number - say 1 to 100 - of parameters - these will be the \"input sample\" columns in our data frame. One fully populated row of these parameters should be a neccessary and sufficient condition to run and analyze a single simulation. We will start with non-transient problems, but this is only for initial simplicity.\n",
    "\n",
    "## Solution Space\n",
    "The outputs should be available for any completed simulation (row of the DF), and will be the \"output columns\" of our dataframe.  Note that this can and should include not only physical metrics (like lift and drag) but computational ones (like run time or stability).\n",
    "\n",
    "\n",
    "## Approach\n",
    "\n",
    "We set up a tool chain of everything required to take an input row and generate an output row, from parametric CAD and meshing through CFD simulation, analysis, and aggregation. We begin using Open Source tools anyone can run on a personal computer, then later explore more aggressive (and non-free in all senses) environments."
   ]
  },
  {
   "cell_type": "markdown",
   "id": "63858bcf",
   "metadata": {},
   "source": [
    "# Workbench\n",
    "\n",
    "## Dataframes and ML\n",
    "We want to have a familiar way to work with arrays of data and tools for processing them.\n",
    "\n",
    "## Geometry and Model\n",
    "We use `gmsh` for both Parametric CAD and our Meshing. The python interface makes this pleasant-ish We will explore varying geometric parameters by rebuilding geometries and then meshes for different values. We will generate `gmsh` output files as well as....\n",
    "\n",
    "## Mesh\n",
    "\n",
    "## CFD\n",
    "\n",
    "We use SU2.\n",
    "\n",
    "## Analysis\n",
    "We will aggregate the tabular outputs from SU2 and process them using Pandas, Numpy, and other common DS tools.\n",
    "\n",
    "## Optimization\n",
    "\n",
    "Given a fully populated DOEFrame fit a simple model and optimize that."
   ]
  },
  {
   "cell_type": "markdown",
   "id": "4b78f850",
   "metadata": {},
   "source": [
    "# Problem Setup\n",
    "\n",
    "How do we set up our model and simulations, then measure things about the result?\n",
    "\n",
    "\n",
    "## parameterized paper airplane design\n",
    "\n",
    "###  gmsh - create parameterized plane design\n",
    "\n",
    "### gmsh - buidl mesh\n",
    "\n",
    "## 3D flow in air at low velocity\n",
    "\n",
    "### SU2 run simulation\n",
    "\n",
    "### Measure outcomes\n",
    "\n"
   ]
  },
  {
   "cell_type": "markdown",
   "id": "b7d234f2",
   "metadata": {},
   "source": [
    "# Solution Setup\n",
    "\n",
    "How do we explore the design space and optimize some dependent variable output?\n",
    "\n",
    "## simple uniform meshing\n",
    "\n",
    "## simple CFD run\n",
    "\n",
    "## metrics and efficacy\n",
    "\n",
    "## optimization"
   ]
  },
  {
   "cell_type": "markdown",
   "id": "2596fd15",
   "metadata": {},
   "source": [
    "# Implementation\n",
    "\n",
    "How do we explore this problem?\n",
    "\n",
    "## dataframes for CFD explorations and DoE\n",
    "\n",
    "## Problem specification \n",
    "What is an interesting AoA to optimize along?\n",
    "\n",
    "What are useful physical parameters?\n",
    "\n",
    "Do our result make physical sense?\n",
    "\n",
    "\n",
    "## optimization\n",
    "\n",
    "How should we define fitness?\n",
    "\n",
    "How should we optimize fitness with our single variable?"
   ]
  },
  {
   "cell_type": "markdown",
   "id": "f6f9cc8c",
   "metadata": {},
   "source": [
    "# Results\n",
    "\n",
    "## Do our CFD results seem reasonable?\n",
    "\n",
    "## Does our optimization seem reasonable?\n",
    "\n",
    "## How does clever optimization compare to a grid search?\n"
   ]
  },
  {
   "cell_type": "markdown",
   "id": "06e5122c",
   "metadata": {},
   "source": [
    "# Open Questions and Next Steps\n",
    "\n",
    "* Optimization tools (Dakota, matlab, etc)\n",
    "* CFD tooling\n",
    "  * cfd params\n",
    "  * mesh improvements\n",
    "  * other CFD platforms\n",
    "* problem refinement\n",
    "* more parameter dimensions\n",
    "* V & V"
   ]
  },
  {
   "cell_type": "code",
   "execution_count": null,
   "id": "b1c36623",
   "metadata": {},
   "outputs": [],
   "source": []
  }
 ],
 "metadata": {
  "kernelspec": {
   "display_name": "Python 3 (ipykernel)",
   "language": "python",
   "name": "python3"
  },
  "language_info": {
   "codemirror_mode": {
    "name": "ipython",
    "version": 3
   },
   "file_extension": ".py",
   "mimetype": "text/x-python",
   "name": "python",
   "nbconvert_exporter": "python",
   "pygments_lexer": "ipython3",
   "version": "3.8.9"
  }
 },
 "nbformat": 4,
 "nbformat_minor": 5
}
