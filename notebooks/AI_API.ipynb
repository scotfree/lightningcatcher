{
 "cells": [
  {
   "cell_type": "code",
   "execution_count": 13,
   "id": "789e88e2",
   "metadata": {},
   "outputs": [],
   "source": [
    "import os\n",
    "import random\n",
    "from openai import OpenAI\n",
    "os.environ['OPENAI_API_KEY']='PUT_YOUR_KEY_HERE'"
   ]
  },
  {
   "cell_type": "code",
   "execution_count": 12,
   "id": "d60ff08f",
   "metadata": {
    "scrolled": true
   },
   "outputs": [
    {
     "name": "stdout",
     "output_type": "stream",
     "text": [
      "ChatCompletionMessage(content='Headline: Lights, Camera, Car Theft! Thieves Drive Off with Vehicle from Drive-In Theater\\n\\nArticle: Lights dimmed not only on the big screen last night, but also in the parking lot of the Starlight Drive-In Theater as a car was stolen during the screening of the latest blockbuster. The daring thieves made off with the vehicle under the cover of darkness, leaving the owner stunned and stranded. Police are currently investigating the incident and are urging anyone with information to come forward. In the meantime, it seems this crime has driven a wedge between moviegoers and the drive-in experience.', role='assistant', function_call=None, tool_calls=None)\n"
     ]
    }
   ],
   "source": [
    "\n",
    "client = OpenAI()\n",
    "\n",
    "completion = client.chat.completions.create(\n",
    "  model=\"gpt-3.5-turbo\",\n",
    "  max_tokens=200,\n",
    "  messages=[\n",
    "    {\"role\": \"system\", \"content\": \"You a 1920 newspaper editor who loves puns.\"},\n",
    "    {\"role\": \"user\", \"content\": \"Write and headline and short article about a car stolen from a drive-in theater.\"}\n",
    "  ]\n",
    ")\n",
    "\n",
    "print(completion.choices[0].message)"
   ]
  },
  {
   "cell_type": "code",
   "execution_count": 16,
   "id": "ca7f717c",
   "metadata": {},
   "outputs": [
    {
     "data": {
      "text/plain": [
       "ChatCompletion(id='chatcmpl-94jRh4zJ759f194jgdCWmmSBkhenU', choices=[Choice(finish_reason='stop', index=0, logprobs=None, message=ChatCompletionMessage(content='Headline: Lights, Camera, Car Theft! Thieves Drive Off with Vehicle from Drive-In Theater\\n\\nArticle: Lights dimmed not only on the big screen last night, but also in the parking lot of the Starlight Drive-In Theater as a car was stolen during the screening of the latest blockbuster. The daring thieves made off with the vehicle under the cover of darkness, leaving the owner stunned and stranded. Police are currently investigating the incident and are urging anyone with information to come forward. In the meantime, it seems this crime has driven a wedge between moviegoers and the drive-in experience.', role='assistant', function_call=None, tool_calls=None))], created=1710915033, model='gpt-3.5-turbo-0125', object='chat.completion', system_fingerprint='fp_4f0b692a78', usage=CompletionUsage(completion_tokens=120, prompt_tokens=39, total_tokens=159))"
      ]
     },
     "execution_count": 16,
     "metadata": {},
     "output_type": "execute_result"
    }
   ],
   "source": [
    "completion"
   ]
  },
  {
   "cell_type": "code",
   "execution_count": 47,
   "id": "ea96ee83",
   "metadata": {},
   "outputs": [],
   "source": [
    "politics = ['communist propaganda pamphlet', \n",
    "            'liberal weekly', 'boring newspaper', \n",
    "            'conservative journal', 'fascist advertiser']\n",
    "technologies = ['magic', 'biology', 'business', 'mechanical', 'electronic']\n",
    "event_types = ['crime', 'surprise', 'discovery', 'artistic event', 'party']\n",
    "source_quirks = ['loves puns', 'hates music', 'loves music', 'always rhymes']"
   ]
  },
  {
   "cell_type": "code",
   "execution_count": 48,
   "id": "4767cdfc",
   "metadata": {},
   "outputs": [],
   "source": [
    "def write_article(client):\n",
    "    p = random.choice(politics)\n",
    "    t = random.choice(technologies)\n",
    "    e = random.choice(event_types)\n",
    "    q = random.choice(source_quirks)\n",
    "    #print(p,t,e,q)\n",
    "    completion = client.chat.completions.create(\n",
    "      model=\"gpt-3.5-turbo\",\n",
    "      max_tokens=200,\n",
    "      messages=[\n",
    "        {\"role\": \"system\", \"content\": f\"You're a 1970s {p} editor who {q}.\"},\n",
    "        {\"role\": \"user\", \"content\": f\"Write a headline and tiny article about {t} {e}.\"}])\n",
    "    c = completion.choices[0].message.content\n",
    "    print(p,t,e,q, c)\n",
    "    h,s = c.split('\\n\\n',1)\n",
    "\n",
    "    return h,s"
   ]
  },
  {
   "cell_type": "code",
   "execution_count": 49,
   "id": "0ff94f44",
   "metadata": {},
   "outputs": [
    {
     "name": "stdout",
     "output_type": "stream",
     "text": [
      "conservative journal magic crime loves puns Headline: Abracadabra-gone Wrong: A Conjuring Conundrum Unveiled!\n",
      "\n",
      "Tiny Article:\n",
      "In a shocking turn of events, the town of Prestidigitopolis was rocked by a wave of magic-related crime. Wands were waved, cards were shuffled, and illusions were shattered as authorities worked tirelessly to unravel the mystery behind this spellbinding spree. It seems that even in a world of smoke and mirrors, crime can still rear its ugly head. Stay tuned as we follow the rabbit hole deeper into this enchanting enigma!\n"
     ]
    }
   ],
   "source": [
    "h,c=write_article(client)"
   ]
  },
  {
   "cell_type": "code",
   "execution_count": 50,
   "id": "08f3c869",
   "metadata": {},
   "outputs": [
    {
     "name": "stdout",
     "output_type": "stream",
     "text": [
      "conservative journal biology surprise always rhymes Headline: Shock in the Lab: A Biology Mystery Unraveled!\n",
      "\n",
      "In the world of science, a shocker was found,\n",
      "Biology textbooks had to be rewound.\n",
      "A new discovery, so bizarre and strange,\n",
      "In the lab, things had to rearrange.\n",
      "\n",
      "A creature was found, unlike any before,\n",
      "With traits and features no one could ignore.\n",
      "Scientists puzzled, scratching their heads,\n",
      "As they unraveled the mystery behind its threads.\n",
      "\n",
      "A lesson learned, in biology so grand,\n",
      "There's always more to understand.\n",
      "Nature's secrets, waiting to be unveiled,\n",
      "In the world of science, truth never fails.\n",
      "Headline: Shock in the Lab: A Biology Mystery Unraveled!\n",
      "In the world of science, a shocker was found,\n",
      "Biology textbooks had to be rewound.\n",
      "A new discovery, so bizarre and strange,\n",
      "In the lab, things had to rearrange.\n",
      "\n",
      "A creature was found, unlike any before,\n",
      "With traits and features no one could ignore.\n",
      "Scientists puzzled, scratching their heads,\n",
      "As they unraveled the mystery behind its threads.\n",
      "\n",
      "A lesson learned, in biology so grand,\n",
      "There's always more to understand.\n",
      "Nature's secrets, waiting to be unveiled,\n",
      "In the world of science, truth never fails.\n",
      "\n",
      "\n",
      "liberal weekly electronic discovery always rhymes Headline:\n",
      "\"Exploring the Wonders of Electronic Discovery - A Modern Legal Journey\"\n",
      "\n",
      "Tiny article:\n",
      "In the age of digital information galore,\n",
      "Electronic discovery opens up legal doors.\n",
      "Gone are the days of dusty paper trails,\n",
      "Now it's all about emails, texts, and digital details.\n",
      "A treasure trove of evidence to uncover and sift,\n",
      "Bringing a new dimension to the legal rift.\n",
      "So lawyers and judges must adapt and learn,\n",
      "To navigate this brave new legal concern.\n",
      "Headline:\n",
      "\"Exploring the Wonders of Electronic Discovery - A Modern Legal Journey\"\n",
      "Tiny article:\n",
      "In the age of digital information galore,\n",
      "Electronic discovery opens up legal doors.\n",
      "Gone are the days of dusty paper trails,\n",
      "Now it's all about emails, texts, and digital details.\n",
      "A treasure trove of evidence to uncover and sift,\n",
      "Bringing a new dimension to the legal rift.\n",
      "So lawyers and judges must adapt and learn,\n",
      "To navigate this brave new legal concern.\n",
      "\n",
      "\n",
      "fascist advertiser magic discovery always rhymes \"Marvel at the Magic Uncovered, a World of Wonder Found Like No Other!\"\n",
      "\n",
      "In a sensational breakthrough of wondrous delight, a team of intrepid explorers stumbled upon a cache of arcane artifacts that have captivated the imagination of all who behold them. From glowing crystals to spellbinding scrolls, this trove of mystic treasures promises to unlock secrets long hidden from the light of day. Prepare to be enchanted, dear readers, as we embark on a journey into the mystical realm where the impossible becomes possible, and magic reigns supreme.\n",
      "\"Marvel at the Magic Uncovered, a World of Wonder Found Like No Other!\"\n",
      "In a sensational breakthrough of wondrous delight, a team of intrepid explorers stumbled upon a cache of arcane artifacts that have captivated the imagination of all who behold them. From glowing crystals to spellbinding scrolls, this trove of mystic treasures promises to unlock secrets long hidden from the light of day. Prepare to be enchanted, dear readers, as we embark on a journey into the mystical realm where the impossible becomes possible, and magic reigns supreme.\n",
      "\n",
      "\n",
      "boring newspaper mechanical artistic event hates music Headline: Mechanical Art Show Leaves Editor Unimpressed\n",
      "\n",
      "Article: The recent mechanical art show that took place in the downtown exhibit hall failed to captivate local newspaper editor, Mr. Smith. The event, which showcased a variety of intricate sculptures and moving gadgets, left Mr. Smith unimpressed and baffled by the apparent fascination with such \"meaningless contraptions.\" Despite the enthusiastic response from attendees, Mr. Smith remains firm in his belief that true artistry can only be found in traditional forms, and he finds the trend of celebrating mechanical art to be a tiresome distraction from what he deems as true artistic expression.\n",
      "Headline: Mechanical Art Show Leaves Editor Unimpressed\n",
      "Article: The recent mechanical art show that took place in the downtown exhibit hall failed to captivate local newspaper editor, Mr. Smith. The event, which showcased a variety of intricate sculptures and moving gadgets, left Mr. Smith unimpressed and baffled by the apparent fascination with such \"meaningless contraptions.\" Despite the enthusiastic response from attendees, Mr. Smith remains firm in his belief that true artistry can only be found in traditional forms, and he finds the trend of celebrating mechanical art to be a tiresome distraction from what he deems as true artistic expression.\n",
      "\n",
      "\n",
      "conservative journal electronic discovery loves puns Headline: \"Shock and Law: Navigating the Current of Electronic Discovery\"\n",
      "\n",
      "Tiny article: \n",
      "\n",
      "In the digital age, the process of discovery in legal cases has been electrically charged with the proliferation of electronic data. From emails to social media posts, lawyers are now wading through a sea of binary code to unearth evidence. However, as the currents of technology continue to surge, attorneys must be vigilant in harnessing these electronic resources responsibly and effectively. Remember, in the realm of electronic discovery, it's all about flowing with the current – not against it! So plug in, tune in, and power up your legal strategies for a shocking success in the courtroom. After all, in the world of law, resistance may be futile, but adaptation is electrifying!\n",
      "Headline: \"Shock and Law: Navigating the Current of Electronic Discovery\"\n",
      "Tiny article: \n",
      "\n",
      "In the digital age, the process of discovery in legal cases has been electrically charged with the proliferation of electronic data. From emails to social media posts, lawyers are now wading through a sea of binary code to unearth evidence. However, as the currents of technology continue to surge, attorneys must be vigilant in harnessing these electronic resources responsibly and effectively. Remember, in the realm of electronic discovery, it's all about flowing with the current – not against it! So plug in, tune in, and power up your legal strategies for a shocking success in the courtroom. After all, in the world of law, resistance may be futile, but adaptation is electrifying!\n",
      "\n",
      "\n"
     ]
    }
   ],
   "source": [
    "for i in range(5):\n",
    "    h,c = write_article(client)\n",
    "    print(f\"{h}\\n{c}\\n\\n\")"
   ]
  },
  {
   "cell_type": "code",
   "execution_count": null,
   "id": "2493ea3d",
   "metadata": {},
   "outputs": [],
   "source": []
  }
 ],
 "metadata": {
  "kernelspec": {
   "display_name": "Python 3 (ipykernel)",
   "language": "python",
   "name": "python3"
  },
  "language_info": {
   "codemirror_mode": {
    "name": "ipython",
    "version": 3
   },
   "file_extension": ".py",
   "mimetype": "text/x-python",
   "name": "python",
   "nbconvert_exporter": "python",
   "pygments_lexer": "ipython3",
   "version": "3.8.9"
  }
 },
 "nbformat": 4,
 "nbformat_minor": 5
}
