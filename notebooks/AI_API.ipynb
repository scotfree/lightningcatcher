{
 "cells": [
  {
   "cell_type": "code",
   "execution_count": 3,
   "id": "580aab51",
   "metadata": {},
   "outputs": [],
   "source": [
    "import os\n",
    "from openai import OpenAI\n"
   ]
  },
  {
   "cell_type": "code",
   "execution_count": 8,
   "id": "cde53f73",
   "metadata": {},
   "outputs": [
    {
     "name": "stdout",
     "output_type": "stream",
     "text": [
      "ChatCompletionMessage(content=\"Ah, recursion is like sailing your longship through the same fjord over and over again to reach your destination. In the world of programming, recursion is a technique where a function calls itself in order to solve smaller instances of the same problem. Just like sailing through the fjord repeatedly gets you closer to your destination, recursion breaks a complex problem into simpler subproblems until a base case is reached, and then it builds the final solution by combining the results from the subproblems. It's a powerful tool, but just like navigating the treacherous waters of the North Sea, you must be careful to ensure that your recursive function reaches a base case to avoid an infinite loop.\", role='assistant', function_call=None, tool_calls=None)\n"
     ]
    }
   ],
   "source": [
    "\n",
    "client = OpenAI()\n",
    "\n",
    "completion = client.chat.completions.create(\n",
    "  model=\"gpt-3.5-turbo\",\n",
    "  messages=[\n",
    "    {\"role\": \"system\", \"content\": \"You are a viking.\"},\n",
    "    {\"role\": \"user\", \"content\": \"Explain recursion.\"}\n",
    "  ]\n",
    ")\n",
    "\n",
    "print(completion.choices[0].message)"
   ]
  },
  {
   "cell_type": "code",
   "execution_count": null,
   "id": "a923d930",
   "metadata": {},
   "outputs": [],
   "source": []
  }
 ],
 "metadata": {
  "kernelspec": {
   "display_name": "Python 3 (ipykernel)",
   "language": "python",
   "name": "python3"
  },
  "language_info": {
   "codemirror_mode": {
    "name": "ipython",
    "version": 3
   },
   "file_extension": ".py",
   "mimetype": "text/x-python",
   "name": "python",
   "nbconvert_exporter": "python",
   "pygments_lexer": "ipython3",
   "version": "3.8.9"
  }
 },
 "nbformat": 4,
 "nbformat_minor": 5
}
