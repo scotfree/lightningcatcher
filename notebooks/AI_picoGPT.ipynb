{
 "cells": [
  {
   "cell_type": "code",
   "execution_count": 12,
   "id": "f7f11edd",
   "metadata": {},
   "outputs": [],
   "source": [
    "import sys\n",
    "sys.path.append('/Users/scot/Projects/Personal/lightningcatcher/notebooks/picoGPT/')\n",
    "\n",
    "import gpt2\n",
    "from utils import load_encoder_hparams_and_params"
   ]
  },
  {
   "cell_type": "code",
   "execution_count": 11,
   "id": "0c54026c",
   "metadata": {},
   "outputs": [
    {
     "name": "stderr",
     "output_type": "stream",
     "text": [
      "generating: 100%|██████████████████████████████████████████████████████████████████████████████| 40/40 [00:06<00:00,  6.45it/s]\n"
     ]
    },
    {
     "data": {
      "text/plain": [
       "' sing.\\n\\nThe idea of a dog singing is not new. The idea of a dog singing is not new. The idea of a dog singing is not new.\\n\\nThe idea of a'"
      ]
     },
     "execution_count": 11,
     "metadata": {},
     "output_type": "execute_result"
    }
   ],
   "source": [
    "gpt2.main(\"If a fish could sing then a dog would\",models_dir='picoGPT/models/')"
   ]
  },
  {
   "cell_type": "code",
   "execution_count": 14,
   "id": "9569005f",
   "metadata": {},
   "outputs": [],
   "source": [
    "model_size = \"124M\"\n",
    "models_dir='picoGPT/models/'\n",
    "    \n",
    "# load encoder, hparams, and params from the released open-ai gpt-2 files\n",
    "encoder, hparams, params = load_encoder_hparams_and_params(model_size, models_dir)"
   ]
  },
  {
   "cell_type": "markdown",
   "id": "fd189401",
   "metadata": {},
   "source": [
    "## Encoder: str -> list of ids"
   ]
  },
  {
   "cell_type": "code",
   "execution_count": 29,
   "id": "91699c75",
   "metadata": {},
   "outputs": [
    {
     "name": "stdout",
     "output_type": "stream",
     "text": [
      "[25095, 735]\n",
      "[25095, 735, 10643]\n",
      "[15418, 735, 340, 572]\n",
      "[15418, 735, 572]\n"
     ]
    }
   ],
   "source": [
    "for prompt in [\"Knock\", \"Knock knock\", \"knock it off\", \"knock off\"]:\n",
    "    print(encoder.encode(prompt))"
   ]
  },
  {
   "cell_type": "code",
   "execution_count": null,
   "id": "4fa11b04",
   "metadata": {},
   "outputs": [],
   "source": [
    "output_ids = generate(input_ids, params, hparams[\"n_head\"], n_tokens_to_generate)"
   ]
  }
 ],
 "metadata": {
  "kernelspec": {
   "display_name": "Python 3 (ipykernel)",
   "language": "python",
   "name": "python3"
  },
  "language_info": {
   "codemirror_mode": {
    "name": "ipython",
    "version": 3
   },
   "file_extension": ".py",
   "mimetype": "text/x-python",
   "name": "python",
   "nbconvert_exporter": "python",
   "pygments_lexer": "ipython3",
   "version": "3.8.9"
  }
 },
 "nbformat": 4,
 "nbformat_minor": 5
}
