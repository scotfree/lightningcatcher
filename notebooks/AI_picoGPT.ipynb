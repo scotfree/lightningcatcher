{
 "cells": [
  {
   "cell_type": "code",
   "execution_count": 7,
   "id": "e815ed9d",
   "metadata": {},
   "outputs": [],
   "source": [
    "import sys\n",
    "sys.path.append('/Users/scot/Projects/Personal/lightningcatcher/notebooks/picoGPT/')\n",
    "\n",
    "import gpt2"
   ]
  },
  {
   "cell_type": "code",
   "execution_count": 11,
   "id": "d234e480",
   "metadata": {},
   "outputs": [
    {
     "name": "stderr",
     "output_type": "stream",
     "text": [
      "generating: 100%|██████████████████████████████████████████████████████████████████████████████| 40/40 [00:06<00:00,  6.45it/s]\n"
     ]
    },
    {
     "data": {
      "text/plain": [
       "' sing.\\n\\nThe idea of a dog singing is not new. The idea of a dog singing is not new. The idea of a dog singing is not new.\\n\\nThe idea of a'"
      ]
     },
     "execution_count": 11,
     "metadata": {},
     "output_type": "execute_result"
    }
   ],
   "source": [
    "gpt2.main(\"If a fish could sing then a dog would\",models_dir='picoGPT/models/')"
   ]
  },
  {
   "cell_type": "code",
   "execution_count": null,
   "id": "8f03b766",
   "metadata": {},
   "outputs": [],
   "source": []
  }
 ],
 "metadata": {
  "kernelspec": {
   "display_name": "Python 3 (ipykernel)",
   "language": "python",
   "name": "python3"
  },
  "language_info": {
   "codemirror_mode": {
    "name": "ipython",
    "version": 3
   },
   "file_extension": ".py",
   "mimetype": "text/x-python",
   "name": "python",
   "nbconvert_exporter": "python",
   "pygments_lexer": "ipython3",
   "version": "3.8.9"
  }
 },
 "nbformat": 4,
 "nbformat_minor": 5
}
